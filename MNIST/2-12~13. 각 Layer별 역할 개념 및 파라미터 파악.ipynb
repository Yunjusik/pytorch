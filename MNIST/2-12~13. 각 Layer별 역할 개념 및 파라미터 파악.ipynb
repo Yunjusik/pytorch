{
 "cells": [
  {
   "cell_type": "markdown",
   "metadata": {},
   "source": [
    "# PyTorch Layer 이해하기"
   ]
  },
  {
   "cell_type": "markdown",
   "metadata": {},
   "source": [
    "# 예제 불러오기"
   ]
  },
  {
   "cell_type": "code",
   "execution_count": 2,
   "metadata": {},
   "outputs": [],
   "source": [
    "import torch\n",
    "from torchvision import datasets, transforms"
   ]
  },
  {
   "cell_type": "code",
   "execution_count": 3,
   "metadata": {},
   "outputs": [],
   "source": [
    "import numpy as np\n",
    "import matplotlib.pyplot as plt\n",
    "\n",
    "%matplotlib inline\n",
    "\n",
    "device = torch.device(\"cuda:0\" if torch.cuda.is_available() else \"cpu\")"
   ]
  },
  {
   "cell_type": "code",
   "execution_count": 4,
   "metadata": {},
   "outputs": [],
   "source": [
    "train_loader = torch.utils.data.DataLoader(\n",
    "    datasets.MNIST('dataset', train=True, download=True,\n",
    "                   transform=transforms.Compose([\n",
    "                       transforms.ToTensor()\n",
    "                   ])),\n",
    "    batch_size=1)"
   ]
  },
  {
   "cell_type": "code",
   "execution_count": 5,
   "metadata": {},
   "outputs": [],
   "source": [
    "image, label = next(iter(train_loader))"
   ]
  },
  {
   "cell_type": "code",
   "execution_count": 6,
   "metadata": {},
   "outputs": [
    {
     "data": {
      "text/plain": [
       "(torch.Size([1, 1, 28, 28]), torch.Size([1]))"
      ]
     },
     "execution_count": 6,
     "metadata": {},
     "output_type": "execute_result"
    }
   ],
   "source": [
    "image.shape, label.shape\n",
    "# 배치사이즈, 채널, 그림pixel"
   ]
  },
  {
   "cell_type": "code",
   "execution_count": 7,
   "metadata": {},
   "outputs": [
    {
     "data": {
      "image/png": "[encoded data removed]",
      "text/plain": [
       "<Figure size 432x288 with 1 Axes>"
      ]
     },
     "metadata": {
      "needs_background": "light"
     },
     "output_type": "display_data"
    }
   ],
   "source": [
    "plt.imshow(image[0, 0, :, :], 'gray')\n",
    "plt.show()"
   ]
  },
  {
   "cell_type": "markdown",
   "metadata": {},
   "source": [
    "# 각 Layer별 설명"
   ]
  },
  {
   "cell_type": "markdown",
   "metadata": {},
   "source": [
    "- Network 쌓기 위한 준비"
   ]
  },
  {
   "cell_type": "code",
   "execution_count": 8,
   "metadata": {},
   "outputs": [],
   "source": [
    "import torch\n",
    "import torch.nn as nn\n",
    "import torch.nn.functional as F"
   ]
  },
  {
   "cell_type": "markdown",
   "metadata": {},
   "source": [
    "### Convolution"
   ]
  },
  {
   "cell_type": "markdown",
   "metadata": {},
   "source": [
    "- in_channels: 받게 될 channel의 갯수\n",
    "- out_channels: 보내고 싶은 channel의 갯수  \n",
    "- kernel_size: 만들고 싶은 kernel(weights)의 사이즈"
   ]
  },
  {
   "cell_type": "code",
   "execution_count": 9,
   "metadata": {},
   "outputs": [
    {
     "data": {
      "text/plain": [
       "Conv2d(1, 20, kernel_size=(5, 5), stride=(1, 1))"
      ]
     },
     "execution_count": 9,
     "metadata": {},
     "output_type": "execute_result"
    }
   ],
   "source": [
    "nn.Conv2d(in_channels=1, out_channels=20, kernel_size=5, stride=1)\n",
    "\n",
    "## pytorch는 앞채널을 지정해줘야함 (in_channels) "
   ]
  },
  {
   "cell_type": "code",
   "execution_count": 10,
   "metadata": {},
   "outputs": [
    {
     "data": {
      "text/plain": [
       "Conv2d(1, 20, kernel_size=(5, 5), stride=(1, 1))"
      ]
     },
     "execution_count": 10,
     "metadata": {},
     "output_type": "execute_result"
    }
   ],
   "source": [
    "layer = nn.Conv2d(1, 20, 5, 1).to(torch.device('cuda')) \n",
    "layer\n",
    "# device  -> cuda\n",
    "# 위 라인을 Conv2d(1,20,5,1)로 간단하게 적을 수 있음"
   ]
  },
  {
   "cell_type": "markdown",
   "metadata": {},
   "source": [
    "- weight 시각화를 위해 slice하고 numpy화"
   ]
  },
  {
   "cell_type": "code",
   "execution_count": 11,
   "metadata": {},
   "outputs": [
    {
     "data": {
      "text/plain": [
       "torch.Size([20, 1, 5, 5])"
      ]
     },
     "execution_count": 11,
     "metadata": {},
     "output_type": "execute_result"
    }
   ],
   "source": [
    "weight = layer.weight\n",
    "weight.shape\n",
    "#layer의 weight 모양 확인"
   ]
  },
  {
   "cell_type": "markdown",
   "metadata": {},
   "source": [
    "- 여기서 weight는 학습 가능한 상태이기 때문에 바로 numpy로 뽑아낼 수 없음\n",
    "- detach() method는 그래프에서 잠깐 빼서 gradient에 영향을 받지 않게 함"
   ]
  },
  {
   "cell_type": "code",
   "execution_count": 12,
   "metadata": {},
   "outputs": [
    {
     "data": {
      "text/plain": [
       "array([[[[-0.13321722,  0.17733653, -0.06919475,  0.13643868,\n",
       "           0.1200632 ],\n",
       "         [-0.07533641,  0.05875166,  0.13351764,  0.1967137 ,\n",
       "          -0.17943625],\n",
       "         [ 0.02989611, -0.12393218,  0.16605501,  0.05236281,\n",
       "           0.18513064],\n",
       "         [ 0.16853358, -0.07805612, -0.18235758, -0.13985607,\n",
       "          -0.11924267],\n",
       "         [ 0.18700348,  0.04884036,  0.16461043,  0.15504535,\n",
       "           0.12726884]]],\n",
       "\n",
       "\n",
       "       [[[ 0.01931241,  0.14208423,  0.13245182, -0.18371816,\n",
       "           0.10236873],\n",
       "         [-0.12852044, -0.05594666, -0.18890956,  0.15480705,\n",
       "          -0.08597002],\n",
       "         [ 0.09269799,  0.11234118, -0.07575138,  0.09768797,\n",
       "          -0.05438653],\n",
       "         [ 0.06163214, -0.0198396 ,  0.12632059, -0.18749988,\n",
       "          -0.07962771],\n",
       "         [ 0.07181896, -0.05235167, -0.15450394,  0.15591411,\n",
       "           0.07566907]]],\n",
       "\n",
       "\n",
       "       [[[ 0.01726215, -0.06432645,  0.00791307, -0.03962271,\n",
       "          -0.08274031],\n",
       "         [-0.12788492,  0.07686295, -0.04101443, -0.08402707,\n",
       "          -0.05305095],\n",
       "         [ 0.08299758,  0.00820884,  0.12386878,  0.16304101,\n",
       "           0.18205868],\n",
       "         [ 0.13525666, -0.13317579,  0.02027567,  0.10170506,\n",
       "          -0.06064674],\n",
       "         [-0.054041  ,  0.01015255,  0.19045283,  0.01904742,\n",
       "           0.10866247]]],\n",
       "\n",
       "\n",
       "       [[[-0.05061424, -0.02105215, -0.07655151,  0.07479085,\n",
       "          -0.07039826],\n",
       "         [-0.18357602,  0.07766275,  0.05145614, -0.12813635,\n",
       "           0.14659418],\n",
       "         [-0.16644125,  0.06121643,  0.13445218,  0.02840237,\n",
       "          -0.12769718],\n",
       "         [ 0.11586027, -0.10966144,  0.13002314,  0.07288702,\n",
       "          -0.03977522],\n",
       "         [-0.02809   ,  0.00028789, -0.06886765, -0.10299291,\n",
       "           0.03477624]]],\n",
       "\n",
       "\n",
       "       [[[ 0.07097138,  0.05163647, -0.19302018,  0.14657809,\n",
       "           0.08414562],\n",
       "         [-0.03114156,  0.18016057, -0.06424868,  0.01972787,\n",
       "           0.01301508],\n",
       "         [-0.08016419, -0.18500625,  0.1632203 , -0.18517104,\n",
       "           0.10766242],\n",
       "         [ 0.14229555,  0.02856627, -0.06945869, -0.18955937,\n",
       "           0.04387668],\n",
       "         [ 0.09401478, -0.16326046,  0.15128131, -0.07563055,\n",
       "           0.07155792]]],\n",
       "\n",
       "\n",
       "       [[[-0.18693589, -0.02371185, -0.12783611, -0.168576  ,\n",
       "          -0.10859742],\n",
       "         [-0.11681757, -0.07492384,  0.04542863, -0.00037313,\n",
       "           0.11311711],\n",
       "         [-0.16177376,  0.01631331,  0.12499072, -0.06040791,\n",
       "          -0.09282222],\n",
       "         [ 0.18491255,  0.02671321,  0.07590421, -0.16802756,\n",
       "           0.11910959],\n",
       "         [ 0.18137898,  0.15789439,  0.19852121, -0.05268669,\n",
       "          -0.15650198]]],\n",
       "\n",
       "\n",
       "       [[[-0.19941072,  0.13386573,  0.19073619, -0.04848452,\n",
       "           0.13286336],\n",
       "         [-0.16310844,  0.08733703, -0.00092673,  0.19363393,\n",
       "           0.16700579],\n",
       "         [ 0.08105363,  0.13874425,  0.11854444, -0.14270863,\n",
       "           0.04225978],\n",
       "         [ 0.07980512, -0.17843865, -0.11424687,  0.15642454,\n",
       "           0.10582264],\n",
       "         [-0.15077221, -0.09493482, -0.05284521,  0.02968717,\n",
       "          -0.12898964]]],\n",
       "\n",
       "\n",
       "       [[[ 0.02825113,  0.14525561, -0.18519352,  0.1452855 ,\n",
       "          -0.142907  ],\n",
       "         [ 0.02300382, -0.00652511, -0.1915633 ,  0.05256726,\n",
       "          -0.04582946],\n",
       "         [ 0.01859859,  0.0388896 , -0.15243335,  0.13733904,\n",
       "           0.00820656],\n",
       "         [ 0.00529611,  0.12988882,  0.05324541,  0.0274653 ,\n",
       "           0.03748675],\n",
       "         [-0.0087883 , -0.00889876, -0.13095465, -0.17874885,\n",
       "          -0.11748762]]],\n",
       "\n",
       "\n",
       "       [[[-0.10408993,  0.19943495,  0.1577866 , -0.1773039 ,\n",
       "           0.11085887],\n",
       "         [-0.06676336, -0.18602589,  0.10567228, -0.17273603,\n",
       "          -0.18940394],\n",
       "         [ 0.00314644, -0.11665261,  0.11447839, -0.02898578,\n",
       "           0.09116189],\n",
       "         [ 0.16116805, -0.10041454,  0.08010711,  0.03202459,\n",
       "           0.14863552],\n",
       "         [ 0.06406297,  0.14458446,  0.00390133, -0.08557935,\n",
       "           0.15404026]]],\n",
       "\n",
       "\n",
       "       [[[-0.16071141, -0.04625645,  0.11198054, -0.02905115,\n",
       "           0.12990762],\n",
       "         [-0.00783233, -0.142734  ,  0.06355496, -0.11456163,\n",
       "          -0.1089277 ],\n",
       "         [-0.17761329, -0.05929065, -0.05028674, -0.0349005 ,\n",
       "           0.09302165],\n",
       "         [ 0.06550623, -0.13725108,  0.09411706,  0.18480496,\n",
       "          -0.16632769],\n",
       "         [-0.12691748,  0.01358373, -0.11418384, -0.12758708,\n",
       "           0.11430876]]],\n",
       "\n",
       "\n",
       "       [[[-0.11848569, -0.13822238,  0.19191502,  0.18425183,\n",
       "          -0.09475768],\n",
       "         [ 0.04066391, -0.02546355,  0.13379826, -0.02892072,\n",
       "          -0.1047843 ],\n",
       "         [ 0.02232423, -0.1369215 ,  0.05044393, -0.06248072,\n",
       "           0.05408631],\n",
       "         [-0.1961437 , -0.04539433,  0.12033077,  0.13726656,\n",
       "          -0.09312957],\n",
       "         [ 0.14884888, -0.02230509, -0.15612261, -0.04074255,\n",
       "           0.17773528]]],\n",
       "\n",
       "\n",
       "       [[[-0.00724836, -0.13313216,  0.12588288, -0.12084728,\n",
       "           0.14335476],\n",
       "         [-0.14641523, -0.12389851, -0.04995604, -0.01276274,\n",
       "           0.00433591],\n",
       "         [-0.15643704,  0.12622808,  0.11923961, -0.00769226,\n",
       "          -0.01649408],\n",
       "         [-0.10283508, -0.12980261, -0.11446073,  0.1099527 ,\n",
       "           0.14245407],\n",
       "         [ 0.14447169,  0.16985132, -0.12257075,  0.0284017 ,\n",
       "           0.0232598 ]]],\n",
       "\n",
       "\n",
       "       [[[ 0.01211014, -0.09234526, -0.17025386, -0.0033029 ,\n",
       "           0.00640854],\n",
       "         [ 0.17140697,  0.10118659, -0.08256116, -0.00960417,\n",
       "           0.06007971],\n",
       "         [-0.17149007, -0.05893299, -0.00514336, -0.0302877 ,\n",
       "          -0.05692263],\n",
       "         [-0.06557038, -0.13925573, -0.11986282,  0.10113133,\n",
       "          -0.18922849],\n",
       "         [ 0.06753005, -0.04945858,  0.02364878, -0.06236932,\n",
       "          -0.02791159]]],\n",
       "\n",
       "\n",
       "       [[[-0.19970341,  0.09505625,  0.02022302, -0.0392787 ,\n",
       "          -0.03318457],\n",
       "         [-0.01605611,  0.08099799,  0.19183592,  0.07899775,\n",
       "          -0.11778464],\n",
       "         [-0.04132339,  0.04422645, -0.08770853,  0.01831901,\n",
       "           0.12350847],\n",
       "         [-0.11923478, -0.04568425, -0.03278248,  0.1581883 ,\n",
       "          -0.01636961],\n",
       "         [-0.12694986, -0.02010295, -0.17192166,  0.14770974,\n",
       "          -0.07068834]]],\n",
       "\n",
       "\n",
       "       [[[-0.14348039,  0.11645116, -0.13526389,  0.02538235,\n",
       "           0.10870095],\n",
       "         [-0.05368634,  0.19245003, -0.07245199,  0.07312621,\n",
       "           0.12830864],\n",
       "         [-0.0419012 , -0.18295205, -0.10907235, -0.08216725,\n",
       "          -0.15011582],\n",
       "         [-0.15754783,  0.11134599, -0.07933481,  0.01771097,\n",
       "          -0.0761502 ],\n",
       "         [-0.07663586, -0.10183311,  0.04491973, -0.09839024,\n",
       "           0.16874875]]],\n",
       "\n",
       "\n",
       "       [[[ 0.08448039, -0.06914136,  0.12421264,  0.17334242,\n",
       "           0.15735959],\n",
       "         [-0.19886242,  0.10318099,  0.02679908,  0.19562085,\n",
       "           0.15184145],\n",
       "         [-0.16829088, -0.06852016, -0.14071961, -0.1789248 ,\n",
       "          -0.04958682],\n",
       "         [-0.06692028,  0.15179981,  0.02640864,  0.09557389,\n",
       "          -0.10156336],\n",
       "         [ 0.05625357,  0.17581157,  0.1344064 , -0.12137198,\n",
       "          -0.11298759]]],\n",
       "\n",
       "\n",
       "       [[[-0.18563798, -0.1791712 , -0.11975818,  0.05365632,\n",
       "           0.15652598],\n",
       "         [ 0.0843917 , -0.10499473,  0.08518107,  0.10293712,\n",
       "           0.06413372],\n",
       "         [ 0.04646608, -0.00189491, -0.13849187,  0.12368323,\n",
       "           0.14757515],\n",
       "         [-0.08653932,  0.09200145, -0.10671359,  0.08040906,\n",
       "           0.05004455],\n",
       "         [ 0.17105912,  0.06949787,  0.11116092,  0.06531967,\n",
       "           0.17365159]]],\n",
       "\n",
       "\n",
       "       [[[-0.1476336 ,  0.16311358,  0.18533649, -0.18568158,\n",
       "          -0.05626699],\n",
       "         [ 0.03441758,  0.09882955, -0.16968334, -0.15462026,\n",
       "          -0.18879138],\n",
       "         [-0.1662015 , -0.09154659, -0.06856003,  0.17881213,\n",
       "           0.08100052],\n",
       "         [ 0.0759169 , -0.1195121 ,  0.17033447, -0.02402365,\n",
       "          -0.13446894],\n",
       "         [-0.06548652,  0.17420758,  0.18122308,  0.19787143,\n",
       "          -0.06967804]]],\n",
       "\n",
       "\n",
       "       [[[-0.1991487 ,  0.03455821,  0.19333507,  0.1082143 ,\n",
       "          -0.14206979],\n",
       "         [-0.04812458,  0.09159495, -0.19940956, -0.18333934,\n",
       "           0.18065374],\n",
       "         [-0.11973155,  0.04130538, -0.08017578, -0.10506165,\n",
       "          -0.11913512],\n",
       "         [ 0.1806855 , -0.17827599,  0.02711384, -0.13748696,\n",
       "          -0.03438091],\n",
       "         [-0.18787733, -0.06236203, -0.08478852, -0.09178384,\n",
       "          -0.00064702]]],\n",
       "\n",
       "\n",
       "       [[[ 0.12405039,  0.1752284 , -0.17382048, -0.06086752,\n",
       "          -0.14593863],\n",
       "         [ 0.19643353,  0.11486246, -0.07999673, -0.14399672,\n",
       "          -0.03916621],\n",
       "         [ 0.11726637, -0.00798707,  0.12871276,  0.0572188 ,\n",
       "           0.05084197],\n",
       "         [-0.18575905, -0.02340659, -0.16637178, -0.07721331,\n",
       "          -0.02768199],\n",
       "         [-0.18538073,  0.00983107, -0.02948573,  0.10769545,\n",
       "           0.13879628]]]], dtype=float32)"
      ]
     },
     "execution_count": 12,
     "metadata": {},
     "output_type": "execute_result"
    }
   ],
   "source": [
    "weight = weight.detach().cpu().numpy()\n",
    "\n",
    "# 쿠다 텐서는 바로 넘파이로 못넘김\n",
    "# 먼저 cpu 텐서로바꿔줘야하므로, cpu. 추가\n",
    "\n",
    "weight"
   ]
  },
  {
   "cell_type": "code",
   "execution_count": 13,
   "metadata": {},
   "outputs": [
    {
     "data": {
      "text/plain": [
       "(20, 1, 5, 5)"
      ]
     },
     "execution_count": 13,
     "metadata": {},
     "output_type": "execute_result"
    }
   ],
   "source": [
    "weight.shape\n",
    "# weight의 모양 -> [해당 layer의 out, input size(채널), kernerl size]"
   ]
  },
  {
   "cell_type": "code",
   "execution_count": 14,
   "metadata": {},
   "outputs": [
    {
     "data": {
      "image/png": "[encoded data removed]",
      "text/plain": [
       "<Figure size 432x288 with 2 Axes>"
      ]
     },
     "metadata": {
      "needs_background": "light"
     },
     "output_type": "display_data"
    }
   ],
   "source": [
    "plt.imshow(weight[0, 0, :, :], 'jet')\n",
    "plt.colorbar()\n",
    "plt.show()"
   ]
  },
  {
   "cell_type": "markdown",
   "metadata": {},
   "source": [
    "- output 시각화 준비를 위해 numpy화"
   ]
  },
  {
   "cell_type": "code",
   "execution_count": 15,
   "metadata": {},
   "outputs": [],
   "source": [
    "\n",
    "image = image.to(device)\n",
    "label= label.to(device)\n",
    "output_data = layer(image)\n",
    "\n",
    "# 여기서 이미지,라벨을 DEVICe로 보내주지 않으면 CUDA관련 런타임에러가 뜸"
   ]
  },
  {
   "cell_type": "code",
   "execution_count": 16,
   "metadata": {},
   "outputs": [],
   "source": [
    "output_data = output_data.data"
   ]
  },
  {
   "cell_type": "code",
   "execution_count": 17,
   "metadata": {},
   "outputs": [
    {
     "data": {
      "text/plain": [
       "tensor([[[[-4.7363e-02, -4.7363e-02, -4.7363e-02,  ..., -4.7363e-02,\n",
       "           -4.7363e-02, -4.7363e-02],\n",
       "          [-4.7363e-02, -4.7363e-02, -4.7363e-02,  ...,  2.6893e-01,\n",
       "            1.5810e-01,  4.5772e-02],\n",
       "          [-4.7363e-02, -4.7363e-02, -4.7363e-02,  ...,  2.1087e-01,\n",
       "            2.3227e-01,  8.3507e-02],\n",
       "          ...,\n",
       "          [-7.1029e-02, -1.0409e-01, -1.7914e-01,  ..., -4.7363e-02,\n",
       "           -4.7363e-02, -4.7363e-02],\n",
       "          [ 1.2671e-02,  8.5639e-02,  2.8776e-01,  ..., -4.7363e-02,\n",
       "           -4.7363e-02, -4.7363e-02],\n",
       "          [-1.1717e-01, -1.0066e-02,  2.2450e-01,  ..., -4.7363e-02,\n",
       "           -4.7363e-02, -4.7363e-02]],\n",
       "\n",
       "         [[-1.4044e-01, -1.4044e-01, -1.4044e-01,  ..., -1.4044e-01,\n",
       "           -1.4044e-01, -1.4044e-01],\n",
       "          [-1.4044e-01, -1.4044e-01, -1.4044e-01,  ..., -1.9628e-01,\n",
       "           -9.6946e-02, -1.0467e-01],\n",
       "          [-1.4044e-01, -1.4044e-01, -1.4044e-01,  ..., -4.5765e-02,\n",
       "           -4.8840e-02, -9.1719e-02],\n",
       "          ...,\n",
       "          [-1.9464e-01, -3.3506e-01, -3.4282e-01,  ..., -1.4044e-01,\n",
       "           -1.4044e-01, -1.4044e-01],\n",
       "          [-1.8799e-01, -1.6690e-01, -1.4317e-01,  ..., -1.4044e-01,\n",
       "           -1.4044e-01, -1.4044e-01],\n",
       "          [-1.6421e-01, -1.1375e-01, -1.7752e-01,  ..., -1.4044e-01,\n",
       "           -1.4044e-01, -1.4044e-01]],\n",
       "\n",
       "         [[ 8.3595e-02,  8.3595e-02,  8.3595e-02,  ...,  8.3595e-02,\n",
       "            8.3595e-02,  8.3595e-02],\n",
       "          [ 8.3595e-02,  8.3595e-02,  8.3595e-02,  ...,  1.3424e-01,\n",
       "            3.6306e-02,  5.6681e-02],\n",
       "          [ 8.3595e-02,  8.3595e-02,  8.3595e-02,  ...,  1.0423e-01,\n",
       "            1.0950e-01,  1.3740e-01],\n",
       "          ...,\n",
       "          [ 9.0518e-02,  2.3563e-01,  4.2944e-01,  ...,  8.3595e-02,\n",
       "            8.3595e-02,  8.3595e-02],\n",
       "          [ 1.6925e-01,  2.9727e-01,  3.7367e-01,  ...,  8.3595e-02,\n",
       "            8.3595e-02,  8.3595e-02],\n",
       "          [ 3.7455e-02, -7.8209e-02, -1.7263e-01,  ...,  8.3595e-02,\n",
       "            8.3595e-02,  8.3595e-02]],\n",
       "\n",
       "         ...,\n",
       "\n",
       "         [[-1.1241e-01, -1.1241e-01, -1.1241e-01,  ..., -1.1241e-01,\n",
       "           -1.1241e-01, -1.1241e-01],\n",
       "          [-1.1241e-01, -1.1241e-01, -1.1241e-01,  ...,  8.1104e-02,\n",
       "           -8.9078e-02, -1.4502e-01],\n",
       "          [-1.1241e-01, -1.1241e-01, -1.1241e-01,  ...,  4.9133e-02,\n",
       "           -1.0475e-01, -9.1034e-02],\n",
       "          ...,\n",
       "          [-1.6665e-01, -1.6543e-01, -1.4527e-02,  ..., -1.1241e-01,\n",
       "           -1.1241e-01, -1.1241e-01],\n",
       "          [-1.0993e-01, -9.7367e-02, -2.0338e-01,  ..., -1.1241e-01,\n",
       "           -1.1241e-01, -1.1241e-01],\n",
       "          [-2.2523e-01, -4.6018e-01, -6.7876e-01,  ..., -1.1241e-01,\n",
       "           -1.1241e-01, -1.1241e-01]],\n",
       "\n",
       "         [[ 5.4450e-04,  5.4450e-04,  5.4450e-04,  ...,  5.4450e-04,\n",
       "            5.4450e-04,  5.4450e-04],\n",
       "          [ 5.4450e-04,  5.4450e-04,  5.4450e-04,  ..., -2.8997e-01,\n",
       "           -2.1250e-01, -9.3026e-02],\n",
       "          [ 5.4450e-04,  5.4450e-04,  5.4450e-04,  ..., -2.2522e-01,\n",
       "           -7.2550e-02,  4.3379e-02],\n",
       "          ...,\n",
       "          [-4.3488e-02, -2.0991e-01, -3.3651e-01,  ...,  5.4450e-04,\n",
       "            5.4450e-04,  5.4450e-04],\n",
       "          [-2.4030e-02, -9.1380e-02, -2.8125e-01,  ...,  5.4450e-04,\n",
       "            5.4450e-04,  5.4450e-04],\n",
       "          [ 6.6251e-02,  9.5132e-03, -1.1969e-01,  ...,  5.4450e-04,\n",
       "            5.4450e-04,  5.4450e-04]],\n",
       "\n",
       "         [[-7.2271e-02, -7.2271e-02, -7.2271e-02,  ..., -7.2271e-02,\n",
       "           -7.2271e-02, -7.2271e-02],\n",
       "          [-7.2271e-02, -7.2271e-02, -7.2271e-02,  ..., -2.6281e-01,\n",
       "           -2.4694e-01, -1.6460e-01],\n",
       "          [-7.2271e-02, -7.2271e-02, -7.2271e-02,  ..., -5.3937e-01,\n",
       "           -4.0315e-01, -2.1131e-01],\n",
       "          ...,\n",
       "          [-7.6069e-02, -9.4282e-02, -1.5642e-01,  ..., -7.2271e-02,\n",
       "           -7.2271e-02, -7.2271e-02],\n",
       "          [-5.3603e-02, -4.8787e-02, -5.5806e-02,  ..., -7.2271e-02,\n",
       "           -7.2271e-02, -7.2271e-02],\n",
       "          [-1.2464e-01, -2.9949e-01, -5.0455e-01,  ..., -7.2271e-02,\n",
       "           -7.2271e-02, -7.2271e-02]]]], device='cuda:0')"
      ]
     },
     "execution_count": 17,
     "metadata": {},
     "output_type": "execute_result"
    }
   ],
   "source": [
    "output_data"
   ]
  },
  {
   "cell_type": "code",
   "execution_count": 18,
   "metadata": {},
   "outputs": [],
   "source": [
    "output = output_data.cpu().numpy()"
   ]
  },
  {
   "cell_type": "code",
   "execution_count": 19,
   "metadata": {},
   "outputs": [
    {
     "data": {
      "text/plain": [
       "array([[[[-4.7363311e-02, -4.7363311e-02, -4.7363311e-02, ...,\n",
       "          -4.7363311e-02, -4.7363311e-02, -4.7363311e-02],\n",
       "         [-4.7363311e-02, -4.7363311e-02, -4.7363311e-02, ...,\n",
       "           2.6893073e-01,  1.5809780e-01,  4.5771755e-02],\n",
       "         [-4.7363311e-02, -4.7363311e-02, -4.7363311e-02, ...,\n",
       "           2.1087423e-01,  2.3226854e-01,  8.3507225e-02],\n",
       "         ...,\n",
       "         [-7.1029261e-02, -1.0409427e-01, -1.7914177e-01, ...,\n",
       "          -4.7363311e-02, -4.7363311e-02, -4.7363311e-02],\n",
       "         [ 1.2671098e-02,  8.5639089e-02,  2.8775865e-01, ...,\n",
       "          -4.7363311e-02, -4.7363311e-02, -4.7363311e-02],\n",
       "         [-1.1716667e-01, -1.0066491e-02,  2.2450188e-01, ...,\n",
       "          -4.7363311e-02, -4.7363311e-02, -4.7363311e-02]],\n",
       "\n",
       "        [[-1.4043891e-01, -1.4043891e-01, -1.4043891e-01, ...,\n",
       "          -1.4043891e-01, -1.4043891e-01, -1.4043891e-01],\n",
       "         [-1.4043891e-01, -1.4043891e-01, -1.4043891e-01, ...,\n",
       "          -1.9627824e-01, -9.6946284e-02, -1.0467026e-01],\n",
       "         [-1.4043891e-01, -1.4043891e-01, -1.4043891e-01, ...,\n",
       "          -4.5764841e-02, -4.8840083e-02, -9.1718540e-02],\n",
       "         ...,\n",
       "         [-1.9463745e-01, -3.3505630e-01, -3.4281731e-01, ...,\n",
       "          -1.4043891e-01, -1.4043891e-01, -1.4043891e-01],\n",
       "         [-1.8798763e-01, -1.6689649e-01, -1.4317116e-01, ...,\n",
       "          -1.4043891e-01, -1.4043891e-01, -1.4043891e-01],\n",
       "         [-1.6421007e-01, -1.1374767e-01, -1.7751843e-01, ...,\n",
       "          -1.4043891e-01, -1.4043891e-01, -1.4043891e-01]],\n",
       "\n",
       "        [[ 8.3595231e-02,  8.3595231e-02,  8.3595231e-02, ...,\n",
       "           8.3595231e-02,  8.3595231e-02,  8.3595231e-02],\n",
       "         [ 8.3595231e-02,  8.3595231e-02,  8.3595231e-02, ...,\n",
       "           1.3424125e-01,  3.6306001e-02,  5.6680694e-02],\n",
       "         [ 8.3595231e-02,  8.3595231e-02,  8.3595231e-02, ...,\n",
       "           1.0422992e-01,  1.0950440e-01,  1.3739511e-01],\n",
       "         ...,\n",
       "         [ 9.0517856e-02,  2.3563293e-01,  4.2944402e-01, ...,\n",
       "           8.3595231e-02,  8.3595231e-02,  8.3595231e-02],\n",
       "         [ 1.6925085e-01,  2.9727435e-01,  3.7367010e-01, ...,\n",
       "           8.3595231e-02,  8.3595231e-02,  8.3595231e-02],\n",
       "         [ 3.7455440e-02, -7.8209296e-02, -1.7263182e-01, ...,\n",
       "           8.3595231e-02,  8.3595231e-02,  8.3595231e-02]],\n",
       "\n",
       "        ...,\n",
       "\n",
       "        [[-1.1240778e-01, -1.1240778e-01, -1.1240778e-01, ...,\n",
       "          -1.1240778e-01, -1.1240778e-01, -1.1240778e-01],\n",
       "         [-1.1240778e-01, -1.1240778e-01, -1.1240778e-01, ...,\n",
       "           8.1104152e-02, -8.9077622e-02, -1.4502263e-01],\n",
       "         [-1.1240778e-01, -1.1240778e-01, -1.1240778e-01, ...,\n",
       "           4.9132682e-02, -1.0474954e-01, -9.1034018e-02],\n",
       "         ...,\n",
       "         [-1.6665386e-01, -1.6543171e-01, -1.4526911e-02, ...,\n",
       "          -1.1240778e-01, -1.1240778e-01, -1.1240778e-01],\n",
       "         [-1.0992721e-01, -9.7367190e-02, -2.0338228e-01, ...,\n",
       "          -1.1240778e-01, -1.1240778e-01, -1.1240778e-01],\n",
       "         [-2.2523254e-01, -4.6018419e-01, -6.7876130e-01, ...,\n",
       "          -1.1240778e-01, -1.1240778e-01, -1.1240778e-01]],\n",
       "\n",
       "        [[ 5.4450333e-04,  5.4450333e-04,  5.4450333e-04, ...,\n",
       "           5.4450333e-04,  5.4450333e-04,  5.4450333e-04],\n",
       "         [ 5.4450333e-04,  5.4450333e-04,  5.4450333e-04, ...,\n",
       "          -2.8996640e-01, -2.1249738e-01, -9.3025774e-02],\n",
       "         [ 5.4450333e-04,  5.4450333e-04,  5.4450333e-04, ...,\n",
       "          -2.2521740e-01, -7.2549544e-02,  4.3379445e-02],\n",
       "         ...,\n",
       "         [-4.3487795e-02, -2.0991130e-01, -3.3650702e-01, ...,\n",
       "           5.4450333e-04,  5.4450333e-04,  5.4450333e-04],\n",
       "         [-2.4029698e-02, -9.1380164e-02, -2.8124803e-01, ...,\n",
       "           5.4450333e-04,  5.4450333e-04,  5.4450333e-04],\n",
       "         [ 6.6250667e-02,  9.5132291e-03, -1.1969331e-01, ...,\n",
       "           5.4450333e-04,  5.4450333e-04,  5.4450333e-04]],\n",
       "\n",
       "        [[-7.2271153e-02, -7.2271153e-02, -7.2271153e-02, ...,\n",
       "          -7.2271153e-02, -7.2271153e-02, -7.2271153e-02],\n",
       "         [-7.2271153e-02, -7.2271153e-02, -7.2271153e-02, ...,\n",
       "          -2.6281428e-01, -2.4693976e-01, -1.6459802e-01],\n",
       "         [-7.2271153e-02, -7.2271153e-02, -7.2271153e-02, ...,\n",
       "          -5.3937453e-01, -4.0315419e-01, -2.1131337e-01],\n",
       "         ...,\n",
       "         [-7.6068968e-02, -9.4281740e-02, -1.5642387e-01, ...,\n",
       "          -7.2271153e-02, -7.2271153e-02, -7.2271153e-02],\n",
       "         [-5.3603046e-02, -4.8787355e-02, -5.5806063e-02, ...,\n",
       "          -7.2271153e-02, -7.2271153e-02, -7.2271153e-02],\n",
       "         [-1.2463676e-01, -2.9949376e-01, -5.0455058e-01, ...,\n",
       "          -7.2271153e-02, -7.2271153e-02, -7.2271153e-02]]]],\n",
       "      dtype=float32)"
      ]
     },
     "execution_count": 19,
     "metadata": {},
     "output_type": "execute_result"
    }
   ],
   "source": [
    "output"
   ]
  },
  {
   "cell_type": "code",
   "execution_count": 20,
   "metadata": {},
   "outputs": [
    {
     "data": {
      "text/plain": [
       "(1, 20, 24, 24)"
      ]
     },
     "execution_count": 20,
     "metadata": {},
     "output_type": "execute_result"
    }
   ],
   "source": [
    "output.shape"
   ]
  },
  {
   "cell_type": "markdown",
   "metadata": {},
   "source": [
    "- Input으로 들어간 이미지 numpy화 "
   ]
  },
  {
   "cell_type": "code",
   "execution_count": 21,
   "metadata": {},
   "outputs": [
    {
     "data": {
      "text/plain": [
       "(1, 1, 28, 28)"
      ]
     },
     "execution_count": 21,
     "metadata": {},
     "output_type": "execute_result"
    }
   ],
   "source": [
    "image_arr = image.cpu().numpy()\n",
    "image_arr.shape\n",
    "#현 이미지는 cuda 에 담겨있음"
   ]
  },
  {
   "cell_type": "code",
   "execution_count": 22,
   "metadata": {},
   "outputs": [
    {
     "data": {
      "image/png": "[encoded data removed]",
      "text/plain": [
       "<Figure size 1080x2160 with 3 Axes>"
      ]
     },
     "metadata": {
      "needs_background": "light"
     },
     "output_type": "display_data"
    }
   ],
   "source": [
    "plt.figure(figsize=(15, 30))\n",
    "plt.subplot(131)\n",
    "plt.title('Input')\n",
    "plt.imshow(np.squeeze(image_arr), 'gray')\n",
    "plt.subplot(132)\n",
    "plt.title('Weight')\n",
    "plt.imshow(weight[0, 0, :, :], 'jet')\n",
    "plt.subplot(133)\n",
    "plt.title('Output')\n",
    "plt.imshow(output[0, 0, :, :], 'gray')\n",
    "plt.show()\n",
    "#원본이미지, weight,레이어를 통과한 이미지모양 각각 시각화"
   ]
  },
  {
   "cell_type": "code",
   "execution_count": null,
   "metadata": {},
   "outputs": [],
   "source": []
  },
  {
   "cell_type": "code",
   "execution_count": null,
   "metadata": {},
   "outputs": [],
   "source": []
  },
  {
   "cell_type": "markdown",
   "metadata": {},
   "source": [
    "### Pooling"
   ]
  },
  {
   "cell_type": "markdown",
   "metadata": {},
   "source": [
    "input을 먼저 앞에 넣고, 뒤에 kernel 사이즈와 stride를 순서대로 넣음"
   ]
  },
  {
   "cell_type": "code",
   "execution_count": 23,
   "metadata": {},
   "outputs": [
    {
     "data": {
      "text/plain": [
       "torch.Size([1, 1, 28, 28])"
      ]
     },
     "execution_count": 23,
     "metadata": {},
     "output_type": "execute_result"
    }
   ],
   "source": [
    "image.shape"
   ]
  },
  {
   "cell_type": "code",
   "execution_count": 24,
   "metadata": {},
   "outputs": [
    {
     "data": {
      "text/plain": [
       "torch.Size([1, 1, 14, 14])"
      ]
     },
     "execution_count": 24,
     "metadata": {},
     "output_type": "execute_result"
    }
   ],
   "source": [
    "pool = F.max_pool2d(image, 2, 2)\n",
    "pool.shape"
   ]
  },
  {
   "cell_type": "markdown",
   "metadata": {},
   "source": [
    "- MaxPool Layer는 weight가 없기 때문에 바로 numpy()가 가능"
   ]
  },
  {
   "cell_type": "code",
   "execution_count": 25,
   "metadata": {},
   "outputs": [
    {
     "data": {
      "text/plain": [
       "(1, 1, 14, 14)"
      ]
     },
     "execution_count": 25,
     "metadata": {},
     "output_type": "execute_result"
    }
   ],
   "source": [
    "pool_arr = pool.cpu().numpy()\n",
    "pool_arr.shape\n",
    "#pool이 쿠다 이미지를 받았으므로, cpu쓰고 넘파이화하는거 잊지말것"
   ]
  },
  {
   "cell_type": "code",
   "execution_count": 26,
   "metadata": {},
   "outputs": [
    {
     "data": {
      "text/plain": [
       "(1, 1, 28, 28)"
      ]
     },
     "execution_count": 26,
     "metadata": {},
     "output_type": "execute_result"
    }
   ],
   "source": [
    "image_arr.shape"
   ]
  },
  {
   "cell_type": "code",
   "execution_count": 27,
   "metadata": {},
   "outputs": [
    {
     "data": {
      "image/png": "[encoded data removed]",
      "text/plain": [
       "<Figure size 720x1080 with 2 Axes>"
      ]
     },
     "metadata": {
      "needs_background": "light"
     },
     "output_type": "display_data"
    }
   ],
   "source": [
    "plt.figure(figsize=(10, 15))\n",
    "plt.subplot(121)\n",
    "plt.title(\"Input\")\n",
    "plt.imshow(np.squeeze(image_arr), 'gray')\n",
    "plt.subplot(122)\n",
    "plt.title('Output')\n",
    "plt.imshow(np.squeeze(pool_arr), 'gray')\n",
    "plt.show()"
   ]
  },
  {
   "cell_type": "markdown",
   "metadata": {},
   "source": [
    "### Linear"
   ]
  },
  {
   "cell_type": "markdown",
   "metadata": {},
   "source": [
    "nn.Linear는 2d가 아닌 1d만 들어가기 때문에 .view() 1D로 펼쳐줘야함"
   ]
  },
  {
   "cell_type": "code",
   "execution_count": 28,
   "metadata": {},
   "outputs": [
    {
     "data": {
      "text/plain": [
       "torch.Size([1, 1, 28, 28])"
      ]
     },
     "execution_count": 28,
     "metadata": {},
     "output_type": "execute_result"
    }
   ],
   "source": [
    "image.shape"
   ]
  },
  {
   "cell_type": "code",
   "execution_count": 29,
   "metadata": {},
   "outputs": [
    {
     "data": {
      "text/plain": [
       "torch.Size([1, 784])"
      ]
     },
     "execution_count": 29,
     "metadata": {},
     "output_type": "execute_result"
    }
   ],
   "source": [
    "flatten = image.view(1, 28 * 28) # 맨앞이 배치사이즈. 배치사이즈는 유지해야함\n",
    "flatten.shape"
   ]
  },
  {
   "cell_type": "code",
   "execution_count": 30,
   "metadata": {},
   "outputs": [
    {
     "data": {
      "text/plain": [
       "torch.Size([1, 10])"
      ]
     },
     "execution_count": 30,
     "metadata": {},
     "output_type": "execute_result"
    }
   ],
   "source": [
    "lin = nn.Linear(784, 10)(flatten.cpu()) #784개 받고 10개로 내보냄\n",
    "lin.shape\n",
    "#한편 flatten도 cuda이므로, cpu로 변환"
   ]
  },
  {
   "cell_type": "code",
   "execution_count": 31,
   "metadata": {},
   "outputs": [
    {
     "data": {
      "text/plain": [
       "tensor([[ 0.1667, -0.0138, -0.1641,  0.1744,  0.0140, -0.1442, -0.1359, -0.1844,\n",
       "         -0.0595, -0.0764]], grad_fn=<AddmmBackward>)"
      ]
     },
     "execution_count": 31,
     "metadata": {},
     "output_type": "execute_result"
    }
   ],
   "source": [
    "lin"
   ]
  },
  {
   "cell_type": "code",
   "execution_count": 32,
   "metadata": {},
   "outputs": [
    {
     "data": {
      "image/png": "[encoded data removed]",
      "text/plain": [
       "<Figure size 432x288 with 1 Axes>"
      ]
     },
     "metadata": {
      "needs_background": "light"
     },
     "output_type": "display_data"
    }
   ],
   "source": [
    "plt.imshow(lin.detach().numpy(), 'jet')\n",
    "# linear에는 weight 속성이 붙어있어서 detach로 해줘야한다고함.\n",
    "# weight 속성을 갖는 변수를 사용할때마다, cuda속성에 cpu를 달아줘야하는듯.\n",
    "plt.show()"
   ]
  },
  {
   "cell_type": "markdown",
   "metadata": {},
   "source": [
    "### Softmax"
   ]
  },
  {
   "cell_type": "markdown",
   "metadata": {},
   "source": [
    "결과를 numpy로 꺼내기 위해선 weight가 담긴 Linear에 weight를 꺼줘야함"
   ]
  },
  {
   "cell_type": "code",
   "execution_count": 33,
   "metadata": {},
   "outputs": [],
   "source": [
    "with torch.no_grad():\n",
    "    flatten = image.view(1, 28 * 28)\n",
    "    lin = nn.Linear(784, 10)(flatten.cpu())\n",
    "    softmax = F.softmax(lin, dim=1)\n",
    "    \n",
    "    #no grad를 해야지만 softmax 결과 볼수 있음"
   ]
  },
  {
   "cell_type": "code",
   "execution_count": 34,
   "metadata": {},
   "outputs": [
    {
     "data": {
      "text/plain": [
       "tensor([[0.1227, 0.0733, 0.0937, 0.1228, 0.1006, 0.1020, 0.0772, 0.0890, 0.1031,\n",
       "         0.1155]])"
      ]
     },
     "execution_count": 34,
     "metadata": {},
     "output_type": "execute_result"
    }
   ],
   "source": [
    "softmax"
   ]
  },
  {
   "cell_type": "code",
   "execution_count": 35,
   "metadata": {},
   "outputs": [
    {
     "data": {
      "text/plain": [
       "0.99999994"
      ]
     },
     "execution_count": 35,
     "metadata": {},
     "output_type": "execute_result"
    }
   ],
   "source": [
    "np.sum(softmax.numpy())"
   ]
  },
  {
   "cell_type": "code",
   "execution_count": null,
   "metadata": {},
   "outputs": [],
   "source": []
  },
  {
   "cell_type": "code",
   "execution_count": null,
   "metadata": {},
   "outputs": [],
   "source": []
  },
  {
   "cell_type": "code",
   "execution_count": null,
   "metadata": {},
   "outputs": [],
   "source": []
  },
  {
   "cell_type": "code",
   "execution_count": null,
   "metadata": {},
   "outputs": [],
   "source": []
  },
  {
   "cell_type": "markdown",
   "metadata": {},
   "source": [
    "# Layer 쌓기"
   ]
  },
  {
   "cell_type": "markdown",
   "metadata": {},
   "source": [
    "예제 출처: https://pytorch.org/tutorials/beginner/pytorch_with_examples.html#id23"
   ]
  },
  {
   "cell_type": "markdown",
   "metadata": {},
   "source": [
    "nn 과 nn.functional의 차이점\n",
    "- nn은 학습 파라미터가 담긴 것 \n",
    "- nn.functional은 학습 파라미터가 없는 것이라 생각하면 간단"
   ]
  },
  {
   "cell_type": "code",
   "execution_count": 36,
   "metadata": {},
   "outputs": [],
   "source": [
    "class Net(nn.Module):\n",
    "    def __init__(self):\n",
    "        super(Net, self).__init__()\n",
    "        self.conv1 = nn.Conv2d(1, 20, 5, 1) # 인채널1, 아웃20, 커널5, stride 1\n",
    "        self.conv2 = nn.Conv2d(20, 50, 5, 1)#인채널 20, 아웃50\n",
    "        self.fc1 = nn.Linear(4*4*50, 500)\n",
    "        self.fc2 = nn.Linear(500, 10)\n",
    "        \n",
    "    def forward(self, x):\n",
    "        # Feature Extraction\n",
    "        x = F.relu(self.conv1(x)) # conv1의 결과가 relu를 거치고\n",
    "        x = F.max_pool2d(x, 2, 2) #풀링을 거쳐 image size 반토막\n",
    "        x = F.relu(self.conv2(x)) # 그 결과를 다시 conv2로 넣고\n",
    "        x = F.max_pool2d(x, 2, 2) #또다시 image size 반토막\n",
    "        #결과적으로 28x28 -> 7x7\n",
    "        \n",
    "        \n",
    "        # 위에서, conv1,2를 통과한 forward 사이즈를 반환해보면 4x4가 나옴.\n",
    "        \n",
    "        # Fully Connected (Classficiation)\n",
    "        x = x.view(-1, 4*4*50)  # forward에서 나온 output 4*4이므로, 4by4 x 50으로 설정\n",
    "        x = F.relu(self.fc1(x))\n",
    "        x = self.fc2(x)\n",
    "        return F.log_softmax(x, dim=1)"
   ]
  },
  {
   "cell_type": "markdown",
   "metadata": {},
   "source": [
    "- Image를 Model에 넣어서 결과 확인"
   ]
  },
  {
   "cell_type": "code",
   "execution_count": 42,
   "metadata": {},
   "outputs": [],
   "source": [
    "model = Net()\n",
    "model = model.to(device)\n",
    "# 여기서 모델을 device로 옮겨줘야함"
   ]
  },
  {
   "cell_type": "code",
   "execution_count": 43,
   "metadata": {},
   "outputs": [],
   "source": [
    "result = model.forward(image)\n",
    "# 위에서 모델을 device(cuda)로 옮겨주지 않으면, weight를 담당하는 모델이 cuda로 넘어가지 않으므로,\n",
    "# 쿠다에 저장된 이미지와 연동이 안되어 오류가 생김."
   ]
  },
  {
   "cell_type": "code",
   "execution_count": 44,
   "metadata": {},
   "outputs": [
    {
     "data": {
      "text/plain": [
       "tensor([[-2.3006, -2.2557, -2.3142, -2.2683, -2.3713, -2.3465, -2.2985, -2.3070,\n",
       "         -2.2846, -2.2845]], device='cuda:0', grad_fn=<LogSoftmaxBackward>)"
      ]
     },
     "execution_count": 44,
     "metadata": {},
     "output_type": "execute_result"
    }
   ],
   "source": [
    "result"
   ]
  },
  {
   "cell_type": "code",
   "execution_count": 45,
   "metadata": {},
   "outputs": [],
   "source": [
    "# 명령어 어떤거있는지 보는법\n",
    "# ex, model. 다음 무엇이있는지 알고싶다면,,\n",
    "# model. 하고 tap을 누르면 가능한 함수명이 뜸"
   ]
  },
  {
   "cell_type": "code",
   "execution_count": null,
   "metadata": {},
   "outputs": [],
   "source": []
  }
 ],
 "metadata": {
  "kernelspec": {
   "display_name": "Python 3",
   "language": "python",
   "name": "python3"
  },
  "language_info": {
   "codemirror_mode": {
    "name": "ipython",
    "version": 3
   },
   "file_extension": ".py",
   "mimetype": "text/x-python",
   "name": "python",
   "nbconvert_exporter": "python",
   "pygments_lexer": "ipython3",
   "version": "3.6.9"
  }
 },
 "nbformat": 4,
 "nbformat_minor": 2
}
